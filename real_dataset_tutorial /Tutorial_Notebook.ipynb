{
 "cells": [
  {
   "cell_type": "markdown",
   "id": "51c53ef2",
   "metadata": {},
   "source": [
    "# Example tutorial Notebook"
   ]
  },
  {
   "cell_type": "markdown",
   "id": "aa9b106f",
   "metadata": {},
   "source": [
    "This short introduction is meant to showcase how to use the Neg_Sel_Pred pipeline efficiently. \n",
    "We'll be going over an example data file that uses Fasta sequences of MHC binding regions, the peptide antigen, and the binding region of the TCell. The purpose of this tutorial is to get you familiarized with the expected input and output of the code."
   ]
  },
  {
   "cell_type": "markdown",
   "id": "1b58fb3d",
   "metadata": {},
   "source": [
    "The sample fasta files used will be MHCTutorial.fasta , PeptideTutorial.fasta , and BindingTutorial.fasta . These must be input into the command prompts as requested by the system when initialized. The data is based on real sequences aquired from the proteome exchange NIH library. \n",
    "\n"
   ]
  },
  {
   "cell_type": "markdown",
   "id": "ae4b668a",
   "metadata": {},
   "source": [
    "**Purpose** \n",
    "\n",
    "The goal of this project is to create a software that models the process of negative selection via the comparison of binding strength between MHC molecules and the antigen they present and the binding strength between the mTEC molecule and the antigen being presented. Should time permit the project scope may expand beyond just this single set of interactions. This way multiple variable regions can be quickly tested against various potential peptide expressions to determine which undergo negative selection and which will avoid it all together.\n"
   ]
  },
  {
   "cell_type": "markdown",
   "id": "28147505",
   "metadata": {},
   "source": [
    "**The data:**\n",
    "- MHC I and II: Major histocompatability Complex molecules are found on antigen presenting cells. These regulate immune responses of the body and make sure that immune cells don't initiate auto-immune responses against the body's own immune system. \n",
    "\n",
    "- Variable Regions of T-Cell Receptor molecules: Bind to antigens and plays a role in the adaptive immune response.\n",
    "\n",
    "- Peptide antigen: Binds to MHC and binds to the variable region of the T-Cell receptor. "
   ]
  },
  {
   "cell_type": "markdown",
   "id": "7eb21d4f",
   "metadata": {},
   "source": [
    "**Steps**\n",
    "- Enter corresponding Fasta files when prompted\n",
    "- See output printed out into results file"
   ]
  },
  {
   "cell_type": "code",
   "execution_count": null,
   "id": "3f62876c",
   "metadata": {},
   "outputs": [
    {
     "name": "stdout",
     "output_type": "stream",
     "text": [
      "Input the location of the MHC file you want to read in\n",
      "MainCode/MHC.fasta\n",
      "Input the location of the Peptide file you want to read in\n",
      "MainCode/Peptide.fasta\n",
      "Input the location of the Binding Site file you want to read in\n",
      "MainCode/Binding.fasta\n",
      "Input the location of the AA Table file you want to read in\n",
      "MainCode/AA_reference_table.txt\n",
      "This is the Protein\n"
     ]
    }
   ],
   "source": [
    "from MainCode import negative_sel_project as nsp\n",
    "import numpy as np\n",
    "import pandas as pd\n",
    "import math\n",
    "import sys\n",
    "import copy\n",
    "import pprint"
   ]
  },
  {
   "cell_type": "markdown",
   "id": "9186436d",
   "metadata": {},
   "source": [
    "**Conclusion**\n",
    "This code can be used to quickly understand how changes in amino acid sequence can impact the strength of binding of the TCell receptor variable region to that of the expressed peptide antigen. In doing so many variable region sequences can be tested for when developing chimeric t-cells to better gauge if the TCell may undergo negative selection. "
   ]
  }
 ],
 "metadata": {
  "kernelspec": {
   "display_name": "Python 3 (ipykernel)",
   "language": "python",
   "name": "python3"
  },
  "language_info": {
   "codemirror_mode": {
    "name": "ipython",
    "version": 3
   },
   "file_extension": ".py",
   "mimetype": "text/x-python",
   "name": "python",
   "nbconvert_exporter": "python",
   "pygments_lexer": "ipython3",
   "version": "3.9.7"
  }
 },
 "nbformat": 4,
 "nbformat_minor": 5
}
