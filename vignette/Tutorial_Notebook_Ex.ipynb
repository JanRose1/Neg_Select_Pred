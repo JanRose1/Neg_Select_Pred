{
 "cells": [
  {
   "cell_type": "markdown",
   "id": "51c53ef2",
   "metadata": {},
   "source": [
    "# Example tutorial Notebook"
   ]
  },
  {
   "cell_type": "markdown",
   "id": "aa9b106f",
   "metadata": {},
   "source": [
    "This short introduction is meant to showcase how to use the Neg_Sel_Pred pipeline efficiently. \n",
    "We'll be going over an example data file that uses Fasta sequences of MHC binding regions, the peptide antigen, and the binding region of the TCell. The purpose of this tutorial is to get you familiarized with the expected input and output of the code."
   ]
  },
  {
   "cell_type": "markdown",
   "id": "1b58fb3d",
   "metadata": {},
   "source": [
    "The sample fasta files used will be MHCTutorial.fasta , PeptideTutorial.fasta , and BindingTutorial.fasta . These must be input into the command prompts as requested by the system when initialized. The data is based on real sequences aquired from the proteome exchange NIH library. \n",
    "\n"
   ]
  },
  {
   "cell_type": "markdown",
   "id": "ae4b668a",
   "metadata": {},
   "source": [
    "**Purpose** \n",
    "\n",
    "The goal of this project is to create a software that models the process of negative selection via the comparison of binding strength between MHC molecules and the antigen they present and the binding strength between the mTEC molecule and the antigen being presented. Should time permit the project scope may expand beyond just this single set of interactions. This way multiple variable regions can be quickly tested against various potential peptide expressions to determine which undergo negative selection and which will avoid it all together.\n"
   ]
  },
  {
   "cell_type": "markdown",
   "id": "28147505",
   "metadata": {},
   "source": [
    "**The data:**\n",
    "- MHC I and II: Major histocompatability Complex molecules are found on antigen presenting cells. These regulate immune responses of the body and make sure that immune cells don't initiate auto-immune responses against the body's own immune system. \n",
    "\n",
    "- Variable Regions of T-Cell Receptor molecules: Bind to antigens and plays a role in the adaptive immune response.\n",
    "\n",
    "- Peptide antigen: Binds to MHC and binds to the variable region of the T-Cell receptor. "
   ]
  },
  {
   "cell_type": "markdown",
   "id": "7eb21d4f",
   "metadata": {},
   "source": [
    "**Steps**\n",
    "- Enter corresponding Fasta files when prompted\n",
    "- See output printed out into results file"
   ]
  },
  {
   "cell_type": "code",
   "execution_count": 24,
   "id": "3f62876c",
   "metadata": {},
   "outputs": [],
   "source": [
    "import numpy as np\n",
    "import pandas as pd\n",
    "import math\n",
    "import sys\n",
    "import copy\n",
    "import pprint\n",
    "from MainCode import negative_sel_project as nsp"
   ]
  },
  {
   "cell_type": "code",
   "execution_count": 25,
   "id": "2131a1b0",
   "metadata": {},
   "outputs": [
    {
     "name": "stdout",
     "output_type": "stream",
     "text": [
      "Input the location of the MHC file you want to read in\n"
     ]
    },
    {
     "ename": "KeyboardInterrupt",
     "evalue": "Interrupted by user",
     "output_type": "error",
     "traceback": [
      "\u001b[0;31m---------------------------------------------------------------------------\u001b[0m",
      "\u001b[0;31mKeyboardInterrupt\u001b[0m                         Traceback (most recent call last)",
      "\u001b[0;32m/tmp/ipykernel_1993867/1647736626.py\u001b[0m in \u001b[0;36m<module>\u001b[0;34m\u001b[0m\n\u001b[1;32m      1\u001b[0m \u001b[0mprint\u001b[0m\u001b[0;34m(\u001b[0m\u001b[0;34m\"Input the location of the MHC file you want to read in\"\u001b[0m\u001b[0;34m)\u001b[0m\u001b[0;34m\u001b[0m\u001b[0;34m\u001b[0m\u001b[0m\n\u001b[0;32m----> 2\u001b[0;31m \u001b[0mstring1\u001b[0m \u001b[0;34m=\u001b[0m \u001b[0minput\u001b[0m\u001b[0;34m(\u001b[0m\u001b[0;34m)\u001b[0m\u001b[0;34m\u001b[0m\u001b[0;34m\u001b[0m\u001b[0m\n\u001b[0m\u001b[1;32m      3\u001b[0m \u001b[0mprint\u001b[0m\u001b[0;34m(\u001b[0m\u001b[0;34m\"Input the location of the Peptide file you want to read in\"\u001b[0m\u001b[0;34m)\u001b[0m\u001b[0;34m\u001b[0m\u001b[0;34m\u001b[0m\u001b[0m\n\u001b[1;32m      4\u001b[0m \u001b[0mstring2\u001b[0m \u001b[0;34m=\u001b[0m \u001b[0minput\u001b[0m\u001b[0;34m(\u001b[0m\u001b[0;34m)\u001b[0m\u001b[0;34m\u001b[0m\u001b[0;34m\u001b[0m\u001b[0m\n\u001b[1;32m      5\u001b[0m \u001b[0mprint\u001b[0m\u001b[0;34m(\u001b[0m\u001b[0;34m\"Input the location of the Binding Site file you want to read in\"\u001b[0m\u001b[0;34m)\u001b[0m\u001b[0;34m\u001b[0m\u001b[0;34m\u001b[0m\u001b[0m\n",
      "\u001b[0;32m/sw/pkgs/arc/python3.9-anaconda/2021.11/lib/python3.9/site-packages/ipykernel/kernelbase.py\u001b[0m in \u001b[0;36mraw_input\u001b[0;34m(self, prompt)\u001b[0m\n\u001b[1;32m   1004\u001b[0m                 \u001b[0;34m\"raw_input was called, but this frontend does not support input requests.\"\u001b[0m\u001b[0;34m\u001b[0m\u001b[0;34m\u001b[0m\u001b[0m\n\u001b[1;32m   1005\u001b[0m             )\n\u001b[0;32m-> 1006\u001b[0;31m         return self._input_request(\n\u001b[0m\u001b[1;32m   1007\u001b[0m             \u001b[0mstr\u001b[0m\u001b[0;34m(\u001b[0m\u001b[0mprompt\u001b[0m\u001b[0;34m)\u001b[0m\u001b[0;34m,\u001b[0m\u001b[0;34m\u001b[0m\u001b[0;34m\u001b[0m\u001b[0m\n\u001b[1;32m   1008\u001b[0m             \u001b[0mself\u001b[0m\u001b[0;34m.\u001b[0m\u001b[0m_parent_ident\u001b[0m\u001b[0;34m[\u001b[0m\u001b[0;34m\"shell\"\u001b[0m\u001b[0;34m]\u001b[0m\u001b[0;34m,\u001b[0m\u001b[0;34m\u001b[0m\u001b[0;34m\u001b[0m\u001b[0m\n",
      "\u001b[0;32m/sw/pkgs/arc/python3.9-anaconda/2021.11/lib/python3.9/site-packages/ipykernel/kernelbase.py\u001b[0m in \u001b[0;36m_input_request\u001b[0;34m(self, prompt, ident, parent, password)\u001b[0m\n\u001b[1;32m   1049\u001b[0m             \u001b[0;32mexcept\u001b[0m \u001b[0mKeyboardInterrupt\u001b[0m\u001b[0;34m:\u001b[0m\u001b[0;34m\u001b[0m\u001b[0;34m\u001b[0m\u001b[0m\n\u001b[1;32m   1050\u001b[0m                 \u001b[0;31m# re-raise KeyboardInterrupt, to truncate traceback\u001b[0m\u001b[0;34m\u001b[0m\u001b[0;34m\u001b[0m\u001b[0m\n\u001b[0;32m-> 1051\u001b[0;31m                 \u001b[0;32mraise\u001b[0m \u001b[0mKeyboardInterrupt\u001b[0m\u001b[0;34m(\u001b[0m\u001b[0;34m\"Interrupted by user\"\u001b[0m\u001b[0;34m)\u001b[0m \u001b[0;32mfrom\u001b[0m \u001b[0;32mNone\u001b[0m\u001b[0;34m\u001b[0m\u001b[0;34m\u001b[0m\u001b[0m\n\u001b[0m\u001b[1;32m   1052\u001b[0m             \u001b[0;32mexcept\u001b[0m \u001b[0mException\u001b[0m\u001b[0;34m:\u001b[0m\u001b[0;34m\u001b[0m\u001b[0;34m\u001b[0m\u001b[0m\n\u001b[1;32m   1053\u001b[0m                 \u001b[0mself\u001b[0m\u001b[0;34m.\u001b[0m\u001b[0mlog\u001b[0m\u001b[0;34m.\u001b[0m\u001b[0mwarning\u001b[0m\u001b[0;34m(\u001b[0m\u001b[0;34m\"Invalid Message:\"\u001b[0m\u001b[0;34m,\u001b[0m \u001b[0mexc_info\u001b[0m\u001b[0;34m=\u001b[0m\u001b[0;32mTrue\u001b[0m\u001b[0;34m)\u001b[0m\u001b[0;34m\u001b[0m\u001b[0;34m\u001b[0m\u001b[0m\n",
      "\u001b[0;31mKeyboardInterrupt\u001b[0m: Interrupted by user"
     ]
    }
   ],
   "source": [
    "print(\"Input the location of the MHC file you want to read in\")\n",
    "string1 = input()\n",
    "print(\"Input the location of the Peptide file you want to read in\")\n",
    "string2 = input()\n",
    "print(\"Input the location of the Binding Site file you want to read in\")\n",
    "string3 = input()\n",
    "print(\"Input the location of the AA Table file you want to read in\")\n",
    "string4 = input()\n",
    "\n",
    "#Read in Amino Acid Strings\n",
    "MHC = open(string1).read() \n",
    "Peptide = open(string2).read()\n",
    "Binding = open(string3).read()\n",
    "\n",
    "AA_Table = nsp.AA_import_todict(string4)\n",
    "\n",
    "\n",
    "MHCCon = []\n",
    "PeptideCon = []\n",
    "BindingCon = []\n",
    "MHCCon,MHC,PeptideCon,Peptide,BindingCon,Binding = nsp.convertAA(MHC,Peptide,Binding,AA_Table)\n",
    "#Folding for the first peptide sequence    \n",
    "#Code \n",
    "print(\"This is the Protein\")\n",
    "MaxPMHC, MHCFace = nsp.createLattice(MHC,MHCCon)\n",
    "print(\"This is the Peptide\")\n",
    "MaxPPeptide,PeptideFace = nsp.createLattice(Peptide,PeptideCon)\n",
    "print(\"This is the Variable Region\")\n",
    "MaxPBinding,BindingFace = nsp.createLattice(Binding,BindingCon)\n",
    "\n",
    "\n",
    "#Just doing basic entropy change and enthalpy = number of bonds formed. \n",
    "\n",
    "FMHCEntropy = len(MHC)*len(MHC)\n",
    "#print(FMHCEntropy)\n",
    "FBindingEntropy = len(Binding)*len(Binding)\n",
    "#print(FBindingEntropy)\n",
    "BMHCEntropy = abs(len(MHC)*len(MHC) - abs(MaxPPeptide - MaxPMHC))\n",
    "#print(BMHCEntropy)\n",
    "BBindingEntropy = abs(len(Binding)*len(Binding) - abs(MaxPPeptide - MaxPBinding))\n",
    "#print(BBindingEntropy)\n",
    "DMHCEntropy = FMHCEntropy - BMHCEntropy \n",
    "#print(DMHCEntropy)\n",
    "DBindingEntropy = FBindingEntropy - BBindingEntropy\n",
    "\n",
    "\n",
    "\n",
    "#For now ignoring Enthalpy changes. \n",
    "\n",
    "\n",
    "StandardGBinding = 0\n",
    "StandardGMHC = 0\n",
    "if MaxPPeptide <= MaxPBinding:\n",
    "    StandardGBinding = nsp.SFree_E(-MaxPPeptide*50,DBindingEntropy)\n",
    "else:\n",
    "    StandardGBinding = nsp.SFree_E(-MaxPBinding*50,DBindingEntropy)\n",
    "    \n",
    "if MaxPPeptide <= MaxPMHC:\n",
    "    StandardGMHC = nsp.SFree_E(-MaxPPeptide*50,DBindingEntropy)\n",
    "else:\n",
    "    StandardGMHC = nsp.SFree_E(-MaxPMHC*50,DBindingEntropy)\n",
    "\n",
    "print(StandardGBinding)\n",
    "print(StandardGMHC)\n",
    "#Comparing both\n",
    "if StandardGBinding <= StandardGMHC:\n",
    "    print(\"Safe from negative Selection\")\n",
    "else:\n",
    "    print(\"Underwent Negative Selection\")"
   ]
  },
  {
   "cell_type": "markdown",
   "id": "9186436d",
   "metadata": {},
   "source": [
    "**Conclusion**\n",
    "This code can be used to quickly understand how changes in amino acid sequence can impact the strength of binding of the TCell receptor variable region to that of the expressed peptide antigen. In doing so many variable region sequences can be tested for when developing chimeric t-cells to better gauge if the TCell may undergo negative selection. "
   ]
  }
 ],
 "metadata": {
  "kernelspec": {
   "display_name": "Python 3 (ipykernel)",
   "language": "python",
   "name": "python3"
  },
  "language_info": {
   "codemirror_mode": {
    "name": "ipython",
    "version": 3
   },
   "file_extension": ".py",
   "mimetype": "text/x-python",
   "name": "python",
   "nbconvert_exporter": "python",
   "pygments_lexer": "ipython3",
   "version": "3.9.7"
  }
 },
 "nbformat": 4,
 "nbformat_minor": 5
}
